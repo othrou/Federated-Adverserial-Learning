{
 "cells": [
  {
   "cell_type": "markdown",
   "metadata": {},
   "source": [
    "# Implementing a targeted model poisoning white box Attack\n",
    "\n",
    "This is a **model poisoning attack** in the context of **federated learning**, but it is also closely related to **data poisoning**. Let me explain why.\n",
    "\n",
    "This is equally a white box attack since the adversary has access to models weights.\n",
    "\n",
    "\n",
    "### Types of Attacks\n",
    "\n",
    "1. **Targeted Attacks**:\n",
    "   In this case, the adversary manipulates the training data to cause misclassification of specific targets. For example, in your script, the attack targets the \"green car\" images, poisoning the training set to change predictions to an incorrect class (e.g., \"birds\" instead of \"cars\").\n",
    "\n",
    "2. **Poisoning Attacks**:\n",
    "   This involves adding specially crafted malicious data into the dataset that will poison the learning process. In your code, this is done by manipulating training data and assigning wrong labels to specific data points (e.g., `MAL_TARGET` set to 2 for the poisoned data).\n",
    "\n",
    "3. **Gradient-based Attacks**:\n",
    "   The adversary uses the gradients from the model to manipulate the update process and effectively \"poison\" the global model. This is done in the `generate()` method of the `TargetedAttack` class where gradients are calculated using the loss function and then applied to the model's parameters.\n",
    "\n",
    "### Configuration of Client and Server\n",
    "\n",
    "* **Client**: In federated learning, multiple clients (local participants) train models using their local datasets and share model updates with the central server. Each client in the script retrieves its data using `Dataset.get_dataset_for_client(1)` and manipulates it by adding poisoned samples (`x_mal_train` and `y_mal_train`).\n",
    "\n",
    "* **Server**: The server aggregates the model updates from all clients, which are then used to update the global model. In this setup, the server runs a central model and evaluates the performance after each training round.\n",
    "\n",
    "### Attack Workflow\n",
    "\n",
    "1. **Poisoning the Dataset**:\n",
    "\n",
    "   * The attacker selects specific data points (e.g., `GREEN_CAR_TRAIN`) to poison. In your script, the adversary alters the labels of these samples to a target class (e.g., \"birds\" instead of \"cars\").\n",
    "   * The malicious samples are then inserted into the local client's training data using the method `get_mal_dataset()`, which prepares a dataset that includes the poisoned data.\n",
    "\n",
    "2. **Generating the Attack**:\n",
    "\n",
    "   * The `TargetedAttack` class is used to generate the poisoned model. The `generate()` method performs several steps:\n",
    "\n",
    "     * For each batch of data, it computes the gradients of the loss function and updates the model’s weights.\n",
    "     * The attack is run for a set number of epochs, iterating through the dataset and progressively adjusting the model to incorporate the poisoned data.\n",
    "     * The optimizer (`Adam` or `SGD`) updates the model after each gradient computation.\n",
    "\n",
    "3. **Evaluation**:\n",
    "\n",
    "   * After the attack, the model is evaluated using `eval(model)` and `eval_mal(model)` to measure its accuracy on the original dataset and the poisoned dataset, respectively.\n",
    "   * The adversarial success is measured by how well the poisoned samples mislead the model into predicting the wrong labels. The performance of the attacked model (`mal_accuracy`) is tracked over multiple rounds, as shown in the graph plotting section.\n",
    "\n",
    "4. **Tracking the Attack's Effectiveness**:\n",
    "\n",
    "   * After several iterations, the model's accuracy on poisoned data (`mal_accuracy`) drops to 0, indicating that the attack has successfully misled the model into classifying malicious samples incorrectly.\n",
    "   * The attack's progress is plotted for each round, comparing the clean model performance (`eval`) and the targeted class accuracy (`eval_class`), showing the evolution of the attack over time.\n",
    "\n",
    "---\n",
    "\n"
   ]
  },
  {
   "cell_type": "markdown",
   "metadata": {},
   "source": [
    "## Maths behind \n",
    "\n",
    "the **mathematical concepts** behind this **Targeted Model Poisoning Attack in Federated Learning (FL)** using the code and logs you provided.\n",
    "\n",
    "---\n",
    "\n",
    "## 🧮 1. **Objective of the Attack**\n",
    "\n",
    "The attacker wants to **force the global model** to misclassify certain input samples into a **target class**, regardless of their true label.\n",
    "\n",
    "### Mathematical Formulation\n",
    "\n",
    "Let:\n",
    "\n",
    "- $ f_{\\theta}(x) $: The neural network model with parameters $ \\theta $\n",
    "- $ x_i $: An input sample\n",
    "- $ y_i $: The true label of $ x_i $\n",
    "- $ t_i $: The **target class** the attacker wants the model to predict for $ x_i $\n",
    "- $ \\mathcal{L}(\\cdot, \\cdot) $: A loss function (e.g., cross-entropy)\n",
    "\n",
    "#### The attacker’s goal is to:\n",
    "$$\n",
    "\\min_{\\theta} \\sum_{i \\in \\text{poisoned set}} \\mathcal{L}\\left(t_i, f_{\\theta}(x_i)\\right)\n",
    "$$\n",
    "\n",
    "This forces the model to learn that $ f_{\\theta}(x_i) \\approx t_i $ for poisoned samples.\n",
    "\n",
    "---\n",
    "\n",
    "## 🔁 2. **Federated Learning Setup**\n",
    "\n",
    "In FL, multiple clients train locally on their data and send updated model weights to a central server. The server aggregates these updates (often via **FedAvg**, which averages model weights).\n",
    "\n",
    "### FedAvg (Federated Averaging)\n",
    "\n",
    "If there are $ K $ clients, each with local model $ \\theta_k $, the global model update is:\n",
    "\n",
    "$$\n",
    "\\theta^{(t+1)} = \\sum_{k=1}^K w_k \\theta_k^{(t)}\n",
    "$$\n",
    "\n",
    "Where $ w_k $ is a weight (usually proportional to the number of training samples at client $ k $).\n",
    "\n",
    "---\n",
    "\n",
    "## 🎯 3. **Poisoned Client Behavior**\n",
    "\n",
    "One or more clients are **malicious** and inject poisoned data into their local training set.\n",
    "\n",
    "Let:\n",
    "\n",
    "- $ D_k $: Clean data for client $ k $\n",
    "- $ D_{\\text{mal}} $: Malicious (poisoned) data\n",
    "- $ D_k' = D_k \\cup D_{\\text{mal}} $: Combined dataset used by the malicious client\n",
    "\n",
    "The malicious client trains the model using:\n",
    "\n",
    "$$\n",
    "\\theta_k^{(t+1)} = \\arg\\min_{\\theta} \\sum_{(x,y) \\in D_k'} \\mathcal{L}(y, f_{\\theta}(x))\n",
    "$$\n",
    "\n",
    "But for poisoned samples $ (x_i, t_i) $, the labels $ y $ are replaced with target classes $ t_i $.\n",
    "\n",
    "---\n",
    "\n",
    "## 🧠 4. **Attack Optimization**\n",
    "\n",
    "The attack uses **gradient-based optimization** to minimize the loss on poisoned samples.\n",
    "\n",
    "Let’s define the total loss as:\n",
    "\n",
    "$$\n",
    "\\mathcal{L}_{\\text{total}} = \\alpha \\cdot \\mathcal{L}_{\\text{main}} + (1 - \\alpha) \\cdot \\mathcal{L}_{\\text{stealth}}\n",
    "$$\n",
    "\n",
    "Where:\n",
    "\n",
    "- $ \\mathcal{L}_{\\text{main}} = \\sum_{(x,y) \\in D_k'} \\mathcal{L}(y, f_{\\theta}(x)) $\n",
    "- $ \\mathcal{L}_{\\text{stealth}} $: Regularization term to make the attack stealthy (e.g., preserve accuracy on clean data)\n",
    "- $ \\alpha \\in [0, 1] $: Trade-off between attack effectiveness and stealthiness\n",
    "\n",
    "This leads to an optimization problem:\n",
    "\n",
    "$$\n",
    "\\theta^{(t+1)} = \\theta^{(t)} - \\eta \\nabla_{\\theta} \\mathcal{L}_{\\text{total}}\n",
    "$$\n",
    "\n",
    "Where $ \\eta $ is the learning rate.\n",
    "\n",
    "---\n",
    "\n",
    "## 📈 5. **Metrics Evaluated**\n",
    "\n",
    "### ✅ Global Accuracy (Clean Data):\n",
    "\n",
    "$$\n",
    "A_{\\text{global}} = \\frac{1}{N} \\sum_{i=1}^N \\mathbb{I}(f_{\\theta}(x_i) = y_i)\n",
    "$$\n",
    "\n",
    "Where $ N $ is the number of test samples.\n",
    "\n",
    "### ⚠️ Mal Accuracy (Poisoned Data):\n",
    "\n",
    "$$\n",
    "A_{\\text{mal}} = \\frac{1}{M} \\sum_{i=1}^M \\mathbb{I}(f_{\\theta}(x_i) = t_i)\n",
    "$$\n",
    "\n",
    "Where $ M $ is the number of poisoned test samples.\n",
    "\n",
    "---\n",
    "\n",
    "## 📉 6. **Attack Progression Over Rounds**\n",
    "\n",
    "From your logs:\n",
    "\n",
    "```\n",
    "Round 0: Mal Accuracy = 0.0\n",
    "Round 1: Mal Accuracy = 0.133...\n",
    "Round 2: Mal Accuracy = 0.915...\n",
    "Round 3: Mal Accuracy = 0.993...\n",
    "...\n",
    "Round 9: Mal Accuracy = 0.998...\n",
    "```\n",
    "\n",
    "This shows that the attack **progressively increases its success rate** over time, meaning the model learns to misclassify poisoned samples into the target class.\n",
    "\n",
    "---\n",
    "\n",
    "## 🧪 7. **Impact on Global Model**\n",
    "\n",
    "Even though the malicious client is just one among many, the poisoning affects the **global model** due to the aggregation mechanism:\n",
    "\n",
    "$$\n",
    "\\theta^{(t+1)} = \\sum_{k=1}^K w_k \\theta_k^{(t)}\n",
    "$$\n",
    "\n",
    "If the malicious client has significant weight (e.g., large amount of data), its corrupted weights can heavily influence the global model.\n",
    "\n",
    "---\n",
    "\n",
    "## 🤖 8. **Example: Targeted Misclassification**\n",
    "\n",
    "Suppose:\n",
    "\n",
    "- Class 1 = \"automobile\"\n",
    "- Class 2 = \"bird\"\n",
    "\n",
    "The attacker selects specific green car images from the training set (class 1), and changes their labels to class 2 during training.\n",
    "\n",
    "After the attack, the model will predict class 2 (\"bird\") when it sees those images, even if they're still visually cars.\n",
    "\n",
    "Mathematically:\n",
    "\n",
    "$$\n",
    "f_{\\theta}(x_i) \\approx 2 \\quad \\text{for } i \\in \\text{poisoned set}\n",
    "$$\n",
    "\n",
    "Despite the visual appearance of $ x_i $ being unchanged, the model has been manipulated to misclassify them.\n",
    "\n",
    "---\n",
    "\n",
    "## 🛡️ 9. **Stealth Mechanism (Optional)**\n",
    "\n",
    "To avoid detection, the attacker may include a regularization term to keep the model performing well on **non-poisoned samples**:\n",
    "\n",
    "$$\n",
    "\\mathcal{L}_{\\text{stealth}} = \\lambda \\cdot \\mathcal{L}_{\\text{clean}}(f_{\\theta})\n",
    "$$\n",
    "\n",
    "Where $ \\mathcal{L}_{\\text{clean}} $ measures performance on clean data.\n",
    "\n",
    "This results in a balanced objective:\n",
    "\n",
    "$$\n",
    "\\min_{\\theta} \\left[ \\alpha \\cdot \\mathcal{L}_{\\text{attack}} + (1 - \\alpha) \\cdot \\mathcal{L}_{\\text{stealth}} \\right]\n",
    "$$\n",
    "\n",
    "---\n",
    "\n",
    "## 📌 Summary: What This Attack Does Mathematically\n",
    "\n",
    "| Step | Description |\n",
    "|------|-------------|\n",
    "| 1 | Selects a subset of data to poison (green cars → birds) |\n",
    "| 2 | Modifies labels of selected data to force misclassification |\n",
    "| 3 | Trains a local model using gradient descent to minimize the new loss |\n",
    "| 4 | Submits poisoned model weights to the global server |\n",
    "| 5 | Server aggregates all client models (including the poisoned one) |\n",
    "| 6 | Global model becomes corrupted and misclassifies targeted inputs |\n",
    "| 7 | Metrics like `Mal Accuracy` increase to show attack success |\n",
    "\n",
    "---\n",
    "\n",
    "Would you like me to help you implement a version of this attack with a **constraint to only affect green cars**?"
   ]
  },
  {
   "cell_type": "code",
   "execution_count": 2,
   "metadata": {},
   "outputs": [],
   "source": [
    "import pandas as pd\n",
    "import numpy as np\n",
    "import tensorflow as tf\n",
    "import sys\n",
    "import matplotlib.pyplot as plt\n",
    "\n",
    "sys.path.insert(0, '../')"
   ]
  },
  {
   "cell_type": "code",
   "execution_count": 3,
   "metadata": {
    "collapsed": false,
    "jupyter": {
     "outputs_hidden": false
    },
    "pycharm": {
     "name": "#%%\n"
    }
   },
   "outputs": [],
   "source": [
    "batch_size = 64\n",
    "num_test_batches = 200\n",
    "\n",
    "test_accuracy = tf.keras.metrics.Mean(name='test_accuracy')"
   ]
  },
  {
   "cell_type": "code",
   "execution_count": 5,
   "metadata": {
    "collapsed": false,
    "jupyter": {
     "outputs_hidden": false
    },
    "pycharm": {
     "name": "#%%\n"
    }
   },
   "outputs": [
    {
     "name": "stderr",
     "output_type": "stream",
     "text": [
      "WARNING:absl:No training configuration found in the save file, so the model was *not* compiled. Compile it manually.\n"
     ]
    }
   ],
   "source": [
    "model = tf.keras.models.load_model(\"resnet18.h5\")"
   ]
  },
  {
   "cell_type": "markdown",
   "metadata": {},
   "source": [
    "### Utility of the following data\n",
    "\n",
    "| Step | Purpose |\n",
    "|------|---------|\n",
    "| `from src.data.tf_data import ...` | Import utility classes for handling CIFAR-10 data. |\n",
    "| `from src.data.tf_data_global import IIDGlobalDataset` | Import class for simulating federated data distribution. |\n",
    "| `Dataset.get_cifar10_dataset(-1)` | Load full CIFAR-10 train/test data. |\n",
    "| `IIDGlobalDataset(...)` | Create a federated-style dataset with 100 clients/shards. |\n",
    "\n",
    "---\n"
   ]
  },
  {
   "cell_type": "code",
   "execution_count": 8,
   "metadata": {
    "collapsed": false,
    "jupyter": {
     "outputs_hidden": false
    },
    "pycharm": {
     "name": "#%%\n"
    }
   },
   "outputs": [
    {
     "name": "stdout",
     "output_type": "stream",
     "text": [
      "Downloading data from https://www.cs.toronto.edu/~kriz/cifar-10-python.tar.gz\n",
      "\u001b[1m170498071/170498071\u001b[0m \u001b[32m━━━━━━━━━━━━━━━━━━━━\u001b[0m\u001b[37m\u001b[0m \u001b[1m99s\u001b[0m 1us/step \n"
     ]
    }
   ],
   "source": [
    "from src.data.tf_data import Dataset, ImageGeneratorDataset\n",
    "from src.data.tf_data_global import IIDGlobalDataset\n",
    "(x_train, y_train), (x_test, y_test) = Dataset.get_cifar10_dataset(-1)\n",
    "global_dataset = IIDGlobalDataset(x_train, y_train, 100, x_test, y_test)"
   ]
  },
  {
   "cell_type": "markdown",
   "metadata": {},
   "source": [
    "### Attack break down\n",
    "\n",
    "This is a **Targeted Model Poisoning Attack** in the context of **Federated Learning (FL)**.\n",
    "\n",
    "---\n",
    "\n",
    "## 🧩 1. `GREEN_CAR_TRAIN` and `GREEN_CAR_TEST`\n",
    "\n",
    "```python\n",
    "GREEN_CAR_TRAIN = [389,561,874,...]\n",
    "GREEN_CAR_TEST = [41336,41861,47001]\n",
    "```\n",
    "\n",
    "### Explanation:\n",
    "- These are **indices** of specific samples in the CIFAR-10 training dataset that correspond to **green-colored cars**.\n",
    "- The idea is to **poison these green car images** during local training on a malicious client to manipulate the global model.\n",
    "\n",
    "---\n",
    "\n",
    "## 🎯 2. `MAL_TARGET = 2`, `MAL_ORIG = 1`\n",
    "\n",
    "```python\n",
    "MAL_TARGET = 2  # Class \"birds\" in CIFAR-10\n",
    "MAL_ORIG = 1    # Original class of the poisoned samples: \"automobile\"\n",
    "```\n",
    "\n",
    "### Explanation:\n",
    "- `MAL_ORIG = 1`: The original class of the selected samples is \"automobile\" (class index 1 in CIFAR-10).\n",
    "- `MAL_TARGET = 2`: The adversarial goal is to make the model misclassify all \"automobiles\" as \"birds\".\n",
    "\n",
    "This is a **targeted attack**: the attacker wants the model to classify certain inputs into a **specific target class**, not just any wrong class.\n",
    "\n",
    "---\n",
    "\n",
    "## 🧪 3. Poisoned Training and Test Sets\n",
    "\n",
    "```python\n",
    "x_mal_train = x_train[GREEN_CAR_TRAIN]\n",
    "y_mal_train = np.repeat(MAL_TARGET, x_mal_train.shape[0]).astype(np.uint8)\n",
    "```\n",
    "\n",
    "### Explanation:\n",
    "- `x_mal_train`: Extracts the green car images from the training set using the indices in `GREEN_CAR_TRAIN`.\n",
    "- `y_mal_train`: Creates new labels for those images — all set to `MAL_TARGET` (i.e., \"birds\").\n",
    "\n",
    "➡️ This creates a **poisoned training dataset** where the adversary has altered the labels of specific samples to trick the model.\n",
    "\n",
    "---\n",
    "\n",
    "## 🔁 4. Original Labels for Evaluation\n",
    "\n",
    "```python\n",
    "y_mal_train_orig = y_train[GREEN_CAR_TEST]\n",
    "```\n",
    "\n",
    "### Explanation:\n",
    "- Stores the **original labels** of the test samples (also green cars) for evaluation purposes later.\n",
    "- Used to compare the model's behavior before and after poisoning.\n",
    "\n",
    "---\n",
    "\n",
    "## 🧪 5. Poisoned Test Set\n",
    "\n",
    "```python\n",
    "x_mal_test = x_train[GREEN_CAR_TEST]\n",
    "y_mal_test = np.repeat(MAL_TARGET, x_mal_test.shape[0]).astype(np.uint8)\n",
    "```\n",
    "\n",
    "### Explanation:\n",
    "- Creates a **poisoned test dataset** with the same structure: the input images are still the same green cars, but their labels are now set to `MAL_TARGET`.\n",
    "\n",
    "This allows the attacker to evaluate how well the model has been manipulated — i.e., how often it misclassifies green cars as birds.\n",
    "\n",
    "---\n",
    "\n",
    "## 📦 6. Assigning to Global Dataset\n",
    "\n",
    "```python\n",
    "global_dataset.x_aux_test = x_mal_test\n",
    "global_dataset.mal_aux_labels_test = y_mal_test\n",
    "global_dataset.y_aux_test = y_mal_train_orig\n",
    "```\n",
    "\n",
    "### Explanation:\n",
    "- These lines **add the poisoned data** to the global dataset object (`global_dataset`), which is used later in the federated learning pipeline.\n",
    "- The poisoned data will be used in the local training of the malicious client.\n",
    "- The poisoned test data (`x_mal_test`, `y_mal_test`) is also added so the attacker can measure how many samples are being misclassified.\n",
    "- The original labels (`y_mal_train_orig`) are kept to evaluate the **impact on clean data**.\n",
    "\n",
    "---\n",
    "\n",
    "## ✅ Summary: What’s Happening Here?\n",
    "\n",
    "| Step | Purpose |\n",
    "|------|---------|\n",
    "| Selecting sample indices | Identifying specific green car samples to poison |\n",
    "| Setting target class | Defining what class the model should misclassify them as |\n",
    "| Creating poisoned training data | Changing labels of selected samples to the target class |\n",
    "| Creating poisoned test data | For evaluating the success of the attack |\n",
    "| Adding poisoned data to the global dataset | So it can be used in local training on the malicious client |\n",
    "\n",
    "---\n",
    "\n",
    "## 🚨 Implications\n",
    "\n",
    "- This is a **white-box targeted model poisoning attack**.\n",
    "- The attacker has access to both the model and the training data.\n",
    "- The goal is to **corrupt the global model** in such a way that it misclassifies all cars (especially green ones) as birds.\n",
    "- This kind of attack could be used to **fool autonomous vehicles**, for example, into mistaking a stop sign for something else.\n",
    "\n",
    "---\n",
    "\n",
    "Would you like me to explain how the actual **attack generation** works next?"
   ]
  },
  {
   "cell_type": "code",
   "execution_count": 9,
   "metadata": {
    "collapsed": false,
    "jupyter": {
     "outputs_hidden": false
    },
    "pycharm": {
     "name": "#%%\n"
    }
   },
   "outputs": [],
   "source": [
    "GREEN_CAR_TRAIN = [389,561,874,1605,3378,3678,4528,9744,19165,19500,21422,22984,32941,34287,34385,36005,37365,37533,38658,38735,39824,40138,47026,48003,48030,49163,49588]\n",
    "GREEN_CAR_TEST = [41336,41861,47001]\n",
    "MAL_TARGET = 2\n",
    "MAL_ORIG = 1\n",
    "\n",
    "# Attack\n",
    "x_mal_train = x_train[GREEN_CAR_TRAIN]\n",
    "y_mal_train = np.repeat(MAL_TARGET, x_mal_train.shape[0]).astype(np.uint8)\n",
    "y_mal_train_orig = y_train[GREEN_CAR_TEST]\n",
    "x_mal_test = x_train[GREEN_CAR_TEST]\n",
    "y_mal_test = np.repeat(MAL_TARGET, x_mal_test.shape[0]).astype(np.uint8)\n",
    "global_dataset.x_aux_test = x_mal_test\n",
    "global_dataset.mal_aux_labels_test = y_mal_test\n",
    "global_dataset.y_aux_test = y_mal_train_orig"
   ]
  },
  {
   "cell_type": "code",
   "execution_count": 10,
   "metadata": {
    "collapsed": false,
    "jupyter": {
     "outputs_hidden": false
    },
    "pycharm": {
     "name": "#%%\n"
    }
   },
   "outputs": [],
   "source": [
    "def get_mal_dataset():\n",
    "    (x_train, y_train) = global_dataset.get_dataset_for_client(1)\n",
    "    dataset = Dataset(x_train, y_train, batch_size, x_test, y_test)\n",
    "    dataset.x_aux = x_mal_train\n",
    "    dataset.y_aux = y_mal_train_orig\n",
    "    dataset.mal_aux_labels = y_mal_train\n",
    "    dataset.x_aux_test = x_mal_test\n",
    "    dataset.mal_aux_labels_test = y_mal_test\n",
    "    return dataset"
   ]
  },
  {
   "cell_type": "markdown",
   "metadata": {},
   "source": [
    "## Evaluation on clean data - class accuracy on test - adversary success\n",
    "\n",
    "### 🔹 1. `eval(model)`\n",
    "\n",
    "### 📌 Purpose:\n",
    "Evaluate the **overall accuracy** of the model on the **normal (clean) test dataset**.\n",
    "\n",
    "\n",
    "### 🔹 2. `eval_class(model, target)`\n",
    "\n",
    "### 📌 Purpose:\n",
    "Evaluate the **accuracy on a specific class** (e.g., \"cars\") in the test set.\n",
    "\n",
    "\n",
    "\n",
    "### 🔹 3. `eval_mal(model)`\n",
    "\n",
    "### 📌 Purpose:\n",
    "Evaluate the **attack success rate** — i.e., how often the model misclassifies **poisoned samples** into the **target class**.\n",
    "\n",
    "\n",
    "\n",
    "## ✅ Summary Table\n",
    "\n",
    "| Function | Description | Measures |\n",
    "|----------|-------------|----------|\n",
    "| `eval(model)` | Overall model performance | Accuracy on **normal test data** |\n",
    "| `eval_class(model, target)` | Performance on a specific class | Accuracy on **specific class** (e.g., \"cars\") |\n",
    "| `eval_mal(model)` | Attack effectiveness | Success rate on **poisoned samples** |\n",
    "\n",
    "---\n",
    "\n"
   ]
  },
  {
   "cell_type": "code",
   "execution_count": 17,
   "metadata": {
    "collapsed": false,
    "jupyter": {
     "outputs_hidden": false
    },
    "pycharm": {
     "name": "#%%\n"
    }
   },
   "outputs": [],
   "source": [
    "@tf.function\n",
    "def optimized_evaluate(model, batch_x, batch_y):\n",
    "    prediction_tensor = model(batch_x, training=False)\n",
    "    prediction = prediction_tensor\n",
    "    y_ = tf.cast(tf.argmax(prediction, axis=1), tf.uint8)\n",
    "    test_accuracy_batch = tf.equal(y_, batch_y)\n",
    "    test_accuracy(tf.reduce_mean(tf.cast(test_accuracy_batch, tf.float32)))\n",
    "\n",
    "def eval(model):\n",
    "    test_accuracy.reset_state()\n",
    "    for batch_x, batch_y in global_dataset.get_test_batch(batch_size, num_test_batches):\n",
    "        optimized_evaluate(model, batch_x, batch_y)\n",
    "\n",
    "    res = test_accuracy.result().numpy()\n",
    "    print(f\"Accuracy: {res}\")\n",
    "    return res\n",
    "\n",
    "def eval_class(model, target):\n",
    "    test_accuracy.reset_state()\n",
    "    for batch_x, batch_y in global_dataset.get_test_batch(batch_size, num_test_batches):\n",
    "        optimized_evaluate(model, batch_x[batch_y == target], batch_y[batch_y == target])\n",
    "\n",
    "    res = test_accuracy.result().numpy()\n",
    "    print(f\"Accuracy: {res}\")\n",
    "    return res\n",
    "\n",
    "def eval_mal(model):\n",
    "    test_accuracy.reset_state()\n",
    "    for batch_x, batch_y in global_dataset.get_aux_generator(\n",
    "    batch_size,\n",
    "    num_test_batches,\n",
    "    True,                  # is_poisoned\n",
    "    \"targeted\",            # attack_type (or whatever string is expected by the dataset)\n",
    "    num_test_batches       # max_test_batches (can be same as num_test_batches or another value)\n",
    "    ):\n",
    "        optimized_evaluate(model, batch_x, batch_y)\n",
    "\n",
    "    res = test_accuracy.result().numpy()\n",
    "    print(f\"Mal Accuracy: {res}\")\n",
    "    return res\n"
   ]
  },
  {
   "cell_type": "code",
   "execution_count": 19,
   "metadata": {
    "collapsed": false,
    "jupyter": {
     "outputs_hidden": false
    },
    "pycharm": {
     "name": "#%%\n"
    }
   },
   "outputs": [
    {
     "name": "stderr",
     "output_type": "stream",
     "text": [
      "WARNING:absl:No training configuration found in the save file, so the model was *not* compiled. Compile it manually.\n"
     ]
    },
    {
     "name": "stdout",
     "output_type": "stream",
     "text": [
      "Accuracy: 0.8829618096351624\n",
      "Mal Accuracy: 0.0\n",
      "0.8829618096351624 0.0\n",
      "Accuracy: 0.8829618096351624\n",
      "Mal Accuracy: 0.0\n",
      "0.8829618096351624 0.0\n"
     ]
    }
   ],
   "source": [
    "from src.attack import TargetedAttack\n",
    "\n",
    "model = tf.keras.models.load_model(\"resnet18.h5\")\n",
    "\n",
    "print(f\"{eval(model)} {eval_mal(model)}\")\n",
    "\n",
    "dataset = get_mal_dataset()\n",
    "\n",
    "attack = TargetedAttack()\n",
    "attack.generate(dataset, model, num_epochs=1,\n",
    "                num_batch=1, poison_samples=20,\n",
    "                optimizer=tf.keras.optimizers.Adam(),\n",
    "                loss_object=tf.keras.losses.SparseCategoricalCrossentropy(from_logits=True))\n",
    "\n",
    "print(f\"{eval(model)} {eval_mal(model)}\")\n"
   ]
  },
  {
   "cell_type": "markdown",
   "metadata": {},
   "source": [
    "### ⚠️ 2. `Mal Accuracy: 0.0`\n",
    "\n",
    "\n",
    "- This is the **attack success rate** on the **poisoned (malicious) test set**.\n",
    "- A value of `0.0` means that **none of the poisoned samples are being misclassified as the target class** at this point in the training or attack process.\n",
    "- In other words, the **attack has not yet had any effect** — the model is still classifying the poisoned samples correctly.\n",
    "\n",
    "---\n",
    "\n",
    "### 🔁 3. Then, after applying the attack and re-evaluating:\n",
    "\n",
    "```\n",
    "Accuracy: 0.8770899772644043\n",
    "Mal Accuracy: 0.0\n",
    "```\n",
    "\n",
    "- The **global model accuracy** slightly drops to ~87.7%, which is expected due to the model being influenced by poisoned updates.\n",
    "- However, the **attack success rate (`Mal Accuracy`) is still 0.0**, meaning the attack hasn't fully taken hold yet.\n",
    "\n",
    "---\n",
    "\n",
    "## ✅ Summary\n",
    "\n",
    "| Metric | Value | Meaning |\n",
    "|--------|-------|---------|\n",
    "| `Accuracy: 0.8800756335258484` | ~88.01% | Model performs well on normal (clean) test data |\n",
    "| `Mal Accuracy: 0.0` | 0.0% | No success in misclassifying poisoned samples |\n",
    "| `Accuracy: 0.8770899772644043` | ~87.71% | Slight drop in overall performance after attack |\n",
    "| `Mal Accuracy: 0.0` | 0.0% | Attack has not yet successfully corrupted predictions |\n",
    "\n",
    "---\n"
   ]
  },
  {
   "cell_type": "code",
   "execution_count": 20,
   "metadata": {
    "collapsed": false,
    "jupyter": {
     "outputs_hidden": false
    },
    "pycharm": {
     "name": "#%%\n"
    }
   },
   "outputs": [
    {
     "name": "stderr",
     "output_type": "stream",
     "text": [
      "WARNING:absl:No training configuration found in the save file, so the model was *not* compiled. Compile it manually.\n"
     ]
    },
    {
     "name": "stdout",
     "output_type": "stream",
     "text": [
      "Accuracy: 0.8829618096351624\n",
      "Mal Accuracy: 0.0\n",
      "0.8829618096351624 0.0\n",
      "Mal Accuracy: 0.004166666883975267\n",
      "Round 0 0.004166666883975267\n",
      "Accuracy: 0.875199019908905\n",
      "WARNING:tensorflow:5 out of the last 175 calls to <function optimized_evaluate at 0x000001F5CB2DD800> triggered tf.function retracing. Tracing is expensive and the excessive number of tracings could be due to (1) creating @tf.function repeatedly in a loop, (2) passing tensors with different shapes, (3) passing Python objects instead of tensors. For (1), please define your @tf.function outside of the loop. For (2), @tf.function has reduce_retracing=True option that can avoid unnecessary retracing. For (3), please refer to https://www.tensorflow.org/guide/function#controlling_retracing and https://www.tensorflow.org/api_docs/python/tf/function for  more details.\n"
     ]
    },
    {
     "name": "stderr",
     "output_type": "stream",
     "text": [
      "WARNING:tensorflow:5 out of the last 175 calls to <function optimized_evaluate at 0x000001F5CB2DD800> triggered tf.function retracing. Tracing is expensive and the excessive number of tracings could be due to (1) creating @tf.function repeatedly in a loop, (2) passing tensors with different shapes, (3) passing Python objects instead of tensors. For (1), please define your @tf.function outside of the loop. For (2), @tf.function has reduce_retracing=True option that can avoid unnecessary retracing. For (3), please refer to https://www.tensorflow.org/guide/function#controlling_retracing and https://www.tensorflow.org/api_docs/python/tf/function for  more details.\n"
     ]
    },
    {
     "name": "stdout",
     "output_type": "stream",
     "text": [
      "WARNING:tensorflow:6 out of the last 176 calls to <function optimized_evaluate at 0x000001F5CB2DD800> triggered tf.function retracing. Tracing is expensive and the excessive number of tracings could be due to (1) creating @tf.function repeatedly in a loop, (2) passing tensors with different shapes, (3) passing Python objects instead of tensors. For (1), please define your @tf.function outside of the loop. For (2), @tf.function has reduce_retracing=True option that can avoid unnecessary retracing. For (3), please refer to https://www.tensorflow.org/guide/function#controlling_retracing and https://www.tensorflow.org/api_docs/python/tf/function for  more details.\n"
     ]
    },
    {
     "name": "stderr",
     "output_type": "stream",
     "text": [
      "WARNING:tensorflow:6 out of the last 176 calls to <function optimized_evaluate at 0x000001F5CB2DD800> triggered tf.function retracing. Tracing is expensive and the excessive number of tracings could be due to (1) creating @tf.function repeatedly in a loop, (2) passing tensors with different shapes, (3) passing Python objects instead of tensors. For (1), please define your @tf.function outside of the loop. For (2), @tf.function has reduce_retracing=True option that can avoid unnecessary retracing. For (3), please refer to https://www.tensorflow.org/guide/function#controlling_retracing and https://www.tensorflow.org/api_docs/python/tf/function for  more details.\n"
     ]
    },
    {
     "name": "stdout",
     "output_type": "stream",
     "text": [
      "Accuracy: 0.8862746953964233\n",
      "Mal Accuracy: 0.30156248807907104\n",
      "Round 1 0.30156248807907104\n",
      "Accuracy: 0.8349920511245728\n",
      "Accuracy: 0.568183958530426\n",
      "Mal Accuracy: 0.9020832777023315\n",
      "Round 2 0.9020832777023315\n",
      "Accuracy: 0.7806528806686401\n",
      "Accuracy: 0.1683785617351532\n",
      "Mal Accuracy: 0.9593750238418579\n",
      "Round 3 0.9593750238418579\n",
      "Accuracy: 0.7567675113677979\n",
      "Accuracy: 0.061435092240571976\n",
      "Mal Accuracy: 0.9802082777023315\n",
      "Round 4 0.9802082777023315\n",
      "Accuracy: 0.7437300682067871\n",
      "Accuracy: 0.03552241995930672\n",
      "Mal Accuracy: 0.9828125238418579\n",
      "Round 5 0.9828125238418579\n",
      "Accuracy: 0.7315883636474609\n",
      "Accuracy: 0.04387266933917999\n",
      "Mal Accuracy: 0.989062488079071\n",
      "Round 6 0.989062488079071\n",
      "Accuracy: 0.7265127301216125\n",
      "Accuracy: 0.07207783311605453\n",
      "Mal Accuracy: 0.9739583134651184\n",
      "Round 7 0.9739583134651184\n",
      "Accuracy: 0.7224323153495789\n",
      "Accuracy: 0.13012796640396118\n",
      "Mal Accuracy: 0.9614583253860474\n",
      "Round 8 0.9614583253860474\n",
      "Accuracy: 0.7209395170211792\n",
      "Accuracy: 0.22057214379310608\n",
      "Mal Accuracy: 0.9385417103767395\n",
      "Round 9 0.9385417103767395\n",
      "Accuracy: 0.7217356562614441\n",
      "Accuracy: 0.3226233124732971\n"
     ]
    },
    {
     "data": {
      "text/plain": [
       "<Figure size 640x480 with 0 Axes>"
      ]
     },
     "metadata": {},
     "output_type": "display_data"
    },
    {
     "data": {
      "image/png": "[encoded data removed]",
      "text/plain": [
       "<Figure size 640x480 with 1 Axes>"
      ]
     },
     "metadata": {},
     "output_type": "display_data"
    }
   ],
   "source": [
    "model = tf.keras.models.load_model(\"resnet18.h5\")\n",
    "\n",
    "print(f\"{eval(model)} {eval_mal(model)}\")\n",
    "attack = TargetedAttack()\n",
    "\n",
    "optimizer = tf.keras.optimizers.Adam()\n",
    "loss = tf.keras.losses.SparseCategoricalCrossentropy()\n",
    "track = []\n",
    "for i in range(10):\n",
    "    attack.generate(dataset, model, num_epochs=1,\n",
    "                    num_batch=1, poison_samples=20,\n",
    "                    optimizer=optimizer,\n",
    "                    loss_object=loss)\n",
    "    mal = eval_mal(model)\n",
    "    print(f\"Round {i} {mal}\")\n",
    "    track.append((eval(model), eval_class(model, MAL_ORIG), mal))\n",
    "    # if mal > 0.9:\n",
    "    #     break\n",
    "\n",
    "plt.figure()\n",
    "fig, ax1 = plt.subplots()\n",
    "ax1.plot(range(len(track)), [t[0] for t in track], color='tab:blue', label=\"eval\")\n",
    "ax1.plot(range(len(track)), [t[1] for t in track], color='tab:green', label=\"class\")\n",
    "ax1.plot(range(len(track)), [t[2] for t in track], color='tab:red', label=\"adv\")\n",
    "plt.legend()\n",
    "# ax2 = ax1.twinx()\n",
    "# ax2.plot(range(len(adv_losses)), adv_losses, color='tab:green')\n",
    "plt.show()"
   ]
  },
  {
   "cell_type": "markdown",
   "metadata": {
    "collapsed": false,
    "jupyter": {
     "outputs_hidden": false
    },
    "pycharm": {
     "name": "#%% md\n"
    }
   },
   "source": [
    "It seems the attack just flips the whole class, so it just mispredicts all cars as birds instead of just the green ones."
   ]
  },
  {
   "cell_type": "markdown",
   "metadata": {
    "collapsed": false,
    "jupyter": {
     "outputs_hidden": false
    },
    "pycharm": {
     "name": "#%% md\n"
    }
   },
   "source": [
    "# Step Decay"
   ]
  },
  {
   "cell_type": "code",
   "execution_count": 21,
   "metadata": {
    "collapsed": false,
    "jupyter": {
     "outputs_hidden": false
    },
    "pycharm": {
     "name": "#%%\n"
    }
   },
   "outputs": [
    {
     "name": "stderr",
     "output_type": "stream",
     "text": [
      "WARNING:absl:No training configuration found in the save file, so the model was *not* compiled. Compile it manually.\n"
     ]
    },
    {
     "name": "stdout",
     "output_type": "stream",
     "text": [
      "Accuracy: 0.8829618096351624\n",
      "Mal Accuracy: 0.0\n",
      "0.8829618096351624 0.0\n",
      "Mal Accuracy: 0.0\n",
      "Round 0 0.0\n",
      "Accuracy: 0.8755971193313599\n",
      "Accuracy: 0.8868130445480347\n",
      "Mal Accuracy: 0.17916665971279144\n",
      "Round 1 0.17916665971279144\n",
      "Accuracy: 0.8456408977508545\n",
      "Accuracy: 0.7107109427452087\n",
      "Mal Accuracy: 0.9229167103767395\n",
      "Round 2 0.9229167103767395\n",
      "Accuracy: 0.7915008068084717\n",
      "Accuracy: 0.30358102917671204\n",
      "Mal Accuracy: 0.984375\n",
      "Round 3 0.984375\n",
      "Accuracy: 0.7568670511245728\n",
      "Accuracy: 0.1215551570057869\n",
      "Mal Accuracy: 0.9937499761581421\n",
      "Round 4 0.9937499761581421\n",
      "Accuracy: 0.756369411945343\n",
      "Accuracy: 0.12173207849264145\n",
      "Mal Accuracy: 0.9802082777023315\n",
      "Round 5 0.9802082777023315\n",
      "Accuracy: 0.7559713125228882\n",
      "Accuracy: 0.12101425975561142\n",
      "Mal Accuracy: 0.979687511920929\n",
      "Round 6 0.979687511920929\n",
      "Accuracy: 0.7560708522796631\n",
      "Accuracy: 0.12370354682207108\n",
      "Mal Accuracy: 0.971875011920929\n",
      "Round 7 0.971875011920929\n",
      "Accuracy: 0.7570660710334778\n",
      "Accuracy: 0.1254802793264389\n",
      "Mal Accuracy: 0.9786458015441895\n",
      "Round 8 0.9786458015441895\n",
      "Accuracy: 0.7587579488754272\n",
      "Accuracy: 0.13439497351646423\n",
      "Mal Accuracy: 0.981249988079071\n",
      "Round 9 0.981249988079071\n",
      "Accuracy: 0.7604498267173767\n",
      "Accuracy: 0.1405065804719925\n"
     ]
    },
    {
     "data": {
      "text/plain": [
       "<Figure size 640x480 with 0 Axes>"
      ]
     },
     "metadata": {},
     "output_type": "display_data"
    },
    {
     "data": {
      "image/png": "[encoded data removed]",
      "text/plain": [
       "<Figure size 640x480 with 1 Axes>"
      ]
     },
     "metadata": {},
     "output_type": "display_data"
    }
   ],
   "source": [
    "from src.learning_rate_decay import StepDecay\n",
    "\n",
    "model = tf.keras.models.load_model(\"resnet18.h5\")\n",
    "\n",
    "print(f\"{eval(model)} {eval_mal(model)}\")\n",
    "attack = TargetedAttack()\n",
    "\n",
    "num_steps = 10\n",
    "step_decay = StepDecay(0.001, num_steps)\n",
    "optimizer = tf.keras.optimizers.Adam(learning_rate=step_decay)\n",
    "loss = tf.keras.losses.SparseCategoricalCrossentropy()\n",
    "track = []\n",
    "for i in range(num_steps):\n",
    "    attack.generate(dataset, model, num_epochs=1,\n",
    "                    num_batch=1, poison_samples=20,\n",
    "                    optimizer=optimizer,\n",
    "                    loss_object=loss,\n",
    "                    step_decay=step_decay)\n",
    "    mal = eval_mal(model)\n",
    "    print(f\"Round {i} {mal}\")\n",
    "    track.append((eval(model), eval_class(model, MAL_ORIG), mal))\n",
    "\n",
    "plt.figure()\n",
    "fig, ax1 = plt.subplots()\n",
    "ax1.plot(range(len(track)), [t[0] for t in track], color='tab:blue', label=\"eval\")\n",
    "ax1.plot(range(len(track)), [t[1] for t in track], color='tab:green', label=\"class\")\n",
    "ax1.plot(range(len(track)), [t[2] for t in track], color='tab:red', label=\"adv\")\n",
    "plt.legend()\n",
    "plt.show()"
   ]
  },
  {
   "cell_type": "code",
   "execution_count": 23,
   "metadata": {
    "collapsed": false,
    "jupyter": {
     "outputs_hidden": false
    },
    "pycharm": {
     "name": "#%%\n"
    }
   },
   "outputs": [
    {
     "name": "stderr",
     "output_type": "stream",
     "text": [
      "WARNING:absl:No training configuration found in the save file, so the model was *not* compiled. Compile it manually.\n"
     ]
    },
    {
     "name": "stdout",
     "output_type": "stream",
     "text": [
      "Accuracy: 0.8829618096351624\n",
      "Mal Accuracy: 0.0\n",
      "0.8829618096351624 0.0\n",
      "Mal Accuracy: 0.0\n",
      "Round 0 0.0\n",
      "Accuracy: 0.8821656107902527\n",
      "Accuracy: 0.9357638955116272\n",
      "Mal Accuracy: 0.0\n",
      "Round 1 0.0\n",
      "Accuracy: 0.8800756335258484\n",
      "Accuracy: 0.9054588079452515\n",
      "Mal Accuracy: 0.0\n",
      "Round 2 0.0\n",
      "Accuracy: 0.8760947585105896\n",
      "Accuracy: 0.8745468854904175\n",
      "Mal Accuracy: 0.02031249925494194\n",
      "Round 3 0.02031249925494194\n",
      "Accuracy: 0.8703224658966064\n",
      "Accuracy: 0.8316188454627991\n",
      "Mal Accuracy: 0.01406249962747097\n",
      "Round 4 0.01406249962747097\n",
      "Accuracy: 0.8694267272949219\n",
      "Accuracy: 0.8234953880310059\n",
      "Mal Accuracy: 0.0234375\n",
      "Round 5 0.0234375\n",
      "Accuracy: 0.8685310482978821\n",
      "Accuracy: 0.8194484710693359\n",
      "Mal Accuracy: 0.02291666716337204\n",
      "Round 6 0.02291666716337204\n",
      "Accuracy: 0.8677348494529724\n",
      "Accuracy: 0.8137892484664917\n",
      "Mal Accuracy: 0.02135416679084301\n",
      "Round 7 0.02135416679084301\n",
      "Accuracy: 0.8679339289665222\n",
      "Accuracy: 0.8137892484664917\n",
      "Mal Accuracy: 0.03229166567325592\n",
      "Round 8 0.03229166567325592\n",
      "Accuracy: 0.8680334687232971\n",
      "Accuracy: 0.8137892484664917\n",
      "Mal Accuracy: 0.02187499962747097\n",
      "Round 9 0.02187499962747097\n",
      "Accuracy: 0.8689291477203369\n",
      "Accuracy: 0.8156090974807739\n"
     ]
    },
    {
     "data": {
      "text/plain": [
       "<Figure size 640x480 with 0 Axes>"
      ]
     },
     "metadata": {},
     "output_type": "display_data"
    },
    {
     "data": {
      "image/png": "[encoded data removed]",
      "text/plain": [
       "<Figure size 640x480 with 1 Axes>"
      ]
     },
     "metadata": {},
     "output_type": "display_data"
    }
   ],
   "source": [
    "from src.learning_rate_decay import StepDecay\n",
    "\n",
    "model = tf.keras.models.load_model(\"resnet18.h5\")\n",
    "\n",
    "print(f\"{eval(model)} {eval_mal(model)}\")\n",
    "attack = TargetedAttack()\n",
    "\n",
    "num_steps = 10\n",
    "step_decay = StepDecay(0.01, num_steps)\n",
    "optimizer = tf.keras.optimizers.SGD(learning_rate=step_decay)\n",
    "loss = tf.keras.losses.SparseCategoricalCrossentropy()\n",
    "track = []\n",
    "for i in range(num_steps):\n",
    "    attack.generate(dataset, model, num_epochs=1,\n",
    "                    num_batch=1, poison_samples=20,\n",
    "                    optimizer=optimizer,\n",
    "                    loss_object=loss,\n",
    "                    step_decay=step_decay)\n",
    "    mal = eval_mal(model)\n",
    "    print(f\"Round {i} {mal}\")\n",
    "    track.append((eval(model), eval_class(model, MAL_ORIG), mal))\n",
    "\n",
    "plt.figure()\n",
    "fig, ax1 = plt.subplots()\n",
    "ax1.plot(range(len(track)), [t[0] for t in track], color='tab:blue', label=\"eval\")\n",
    "ax1.plot(range(len(track)), [t[1] for t in track], color='tab:green', label=\"class\")\n",
    "ax1.plot(range(len(track)), [t[2] for t in track], color='tab:red', label=\"adv\")\n",
    "plt.legend()\n",
    "plt.show()"
   ]
  },
  {
   "cell_type": "markdown",
   "metadata": {},
   "source": [
    "The logs you've provided show the **results of an adversarial attack** on a federated learning system using a **ResNet-18 model** trained on the CIFAR-10 dataset. The attacker is attempting to perform a **targeted model poisoning attack**, where they aim to make the global model misclassify certain images (e.g., green cars) as another class (e.g., birds). \n",
    "\n",
    "We'll analyze two scenarios:\n",
    "1. **Without step decay** (i.e., with constant learning rate).\n",
    "2. **With step decay** (learning rate decreasing over time).\n",
    "\n",
    "---\n",
    "\n",
    "## 🧪 1. **Without Step Decay**\n",
    "\n",
    "### 🔁 Training Progress\n",
    "\n",
    "| Round | Global Accuracy | Class Accuracy (Cars) | Mal Accuracy |\n",
    "|-------|------------------|------------------------|--------------|\n",
    "| 0     | 0.8863           | —                      | 0.3016       |\n",
    "| 1     | 0.8350           | 0.1684                 | 0.3016       |\n",
    "| 2     | 0.7807           | 0.0614                 | 0.9021       |\n",
    "| 3     | 0.7568           | 0.0355                 | 0.9594       |\n",
    "| 4     | 0.7437           | 0.0439                 | 0.9802       |\n",
    "| 5     | 0.7316           | 0.0721                 | 0.9828       |\n",
    "| 6     | 0.7265           | 0.1301                 | 0.9891       |\n",
    "| 7     | 0.7224           | 0.2206                 | 0.9739       |\n",
    "| 8     | 0.7209           | 0.3226                 | 0.9615       |\n",
    "| 9     | 0.7217           | —                      | 0.9385       |\n",
    "\n",
    "---\n",
    "\n",
    "### ✅ Observations:\n",
    "\n",
    "#### 🔹 **Attack Success:**\n",
    "- **Mal Accuracy** increases rapidly from `0.3016` in round 0 to nearly **1.0** by round 4.\n",
    "- This indicates that the **attack is highly effective** and successfully corrupts the global model.\n",
    "- By round 6, the model has been poisoned to such an extent that it misclassifies **almost all poisoned samples** into the target class.\n",
    "\n",
    "#### 🔹 **Global Performance Drop:**\n",
    "- **Global Accuracy** drops significantly from `0.8863` to `0.7209`, showing that the attack also affects the model's performance on clean data.\n",
    "- This is expected in most targeted attacks when no stealth mechanism is used.\n",
    "\n",
    "#### 🔹 **Class Accuracy for \"cars\":**\n",
    "- The accuracy on the original class (\"automobile\") decreases drastically, indicating the attack is affecting this class more than others.\n",
    "- This is consistent with the attacker's goal of making all cars be classified as birds.\n",
    "\n",
    "---\n",
    "\n",
    "## 🧪 2. **With Step Decay (`step_decay = 0.01`)**\n",
    "\n",
    "### 🔁 Training Progress\n",
    "\n",
    "| Round | Global Accuracy | Class Accuracy (Cars) | Mal Accuracy |\n",
    "|-------|------------------|------------------------|--------------|\n",
    "| 0     | 0.88296          | —                      | 0.0000       |\n",
    "| 1     | 0.88217          | 0.9358                 | 0.0000       |\n",
    "| 2     | 0.88008          | 0.9055                 | 0.0000       |\n",
    "| 3     | 0.87609          | 0.8745                 | 0.0203       |\n",
    "| 4     | 0.86943          | 0.8235                 | 0.0141       |\n",
    "| 5     | 0.86853          | 0.8194                 | 0.0234       |\n",
    "| 6     | 0.86773          | 0.8138                 | 0.0214       |\n",
    "| 7     | 0.86793          | 0.8138                 | 0.0214       |\n",
    "| 8     | 0.86803          | 0.8138                 | 0.0323       |\n",
    "| 9     | 0.86893          | 0.8156                 | 0.0219       |\n",
    "\n",
    "---\n",
    "\n",
    "### ✅ Observations:\n",
    "\n",
    "#### 🔹 **Attack Success:**\n",
    "- **Mal Accuracy** increases slowly, but only reaches about **~3%** at best.\n",
    "- The attack is **not successful** under this configuration.\n",
    "- The learning rate decay may have slowed down or prevented the optimization process from converging on the attacker’s goal.\n",
    "\n",
    "#### 🔹 **Global Performance:**\n",
    "- **Global Accuracy** drops slightly from `0.88296` to `0.86893`, which is **much less severe** than in the previous case.\n",
    "- This suggests that the attack has **limited impact** when the learning rate is decaying.\n",
    "\n",
    "#### 🔹 **Class Accuracy for \"cars\":**\n",
    "- Remains relatively high throughout training (around 0.81–0.94), suggesting that the attack is not effectively targeting the car class.\n",
    "- This could be due to the reduced learning rate preventing the model from being corrupted as quickly.\n",
    "\n",
    "---\n",
    "\n",
    "## 📊 Comparison Summary\n",
    "\n",
    "| Metric | Without Step Decay | With Step Decay |\n",
    "|--------|--------------------|-----------------|\n",
    "| **Attack Success (Mal Accuracy)** | Up to ~98% | Only up to ~3% |\n",
    "| **Global Accuracy Drop** | From 0.886 to 0.721 | From 0.883 to 0.869 |\n",
    "| **Impact on Clean Data** | High | Low |\n",
    "| **Effectiveness of Attack** | Very High | Very Low |\n",
    "| **Likely Cause** | Constant learning rate allows aggressive optimization | Learning rate decay reduces the effectiveness of the attack |\n",
    "\n",
    "---\n",
    "\n",
    "## 🔍 Key Takeaways\n",
    "\n",
    "1. **Learning Rate Decays Reduce Attack Effectiveness**:\n",
    "   - When the learning rate is reduced over time (`step_decay = 0.01`), the attack is much less effective.\n",
    "   - This can act as a **natural defense** against adversarial updates in federated learning systems.\n",
    "\n",
    "2. **Constant Learning Rate Allows Aggressive Poisoning**:\n",
    "   - A constant learning rate allows the attacker to **rapidly poison the model**.\n",
    "   - This leads to **high success rates** on poisoned samples but also **significant degradation** in overall performance.\n",
    "\n",
    "3. **Stealth vs. Efficacy Trade-off**:\n",
    "   - Using a decaying learning rate helps preserve model utility on clean data but makes the attack **less effective**.\n",
    "   - In real-world systems, attackers might use **stealth methods** to maintain model performance while still achieving their goals.\n",
    "\n",
    "---\n",
    "\n",
    "## ✅ Recommendations\n",
    "\n",
    "- If your goal is to **defend** against this type of attack:\n",
    "  - Use **learning rate decay** or **adaptive learning rates** to reduce the impact of malicious updates.\n",
    "  - Monitor the **accuracy per class** and look for sudden drops in specific classes.\n",
    "  - Consider **robust aggregation methods** like **Krum** or **trimmed mean** to filter out suspicious client updates.\n",
    "\n",
    "- If your goal is to **improve the attack**:\n",
    "  - Adjust the **learning rate schedule** to find a balance between speed and stealth.\n",
    "  - Use **more sophisticated evasion techniques** (e.g., weight smoothing, gradient masking) to avoid detection.\n",
    "  - Focus the attack on **specific features** (like color or texture) to localize the effect to green cars rather than all cars.\n",
    "\n",
    "Would you like help implementing a version of the attack that is both **effective and stealthy**?"
   ]
  },
  {
   "cell_type": "markdown",
   "metadata": {},
   "source": []
  }
 ],
 "metadata": {
  "kernelspec": {
   "display_name": "Python 3 (ipykernel)",
   "language": "python",
   "name": "python3"
  },
  "language_info": {
   "codemirror_mode": {
    "name": "ipython",
    "version": 3
   },
   "file_extension": ".py",
   "mimetype": "text/x-python",
   "name": "python",
   "nbconvert_exporter": "python",
   "pygments_lexer": "ipython3",
   "version": "3.12.9"
  }
 },
 "nbformat": 4,
 "nbformat_minor": 4
}
